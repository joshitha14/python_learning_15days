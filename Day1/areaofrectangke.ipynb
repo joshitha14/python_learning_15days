{
 "cells": [
  {
   "cell_type": "code",
   "execution_count": 13,
   "metadata": {},
   "outputs": [
    {
     "name": "stdout",
     "output_type": "stream",
     "text": [
      "Area of rectangle :40\n"
     ]
    }
   ],
   "source": [
    "# Function to calculate simple area of rectangle\n",
    "\n",
    "def area_of_rectangle(length, width):\n",
    "    return length * width\n",
    "\n",
    "length = 5\n",
    "width = 8\n",
    "result = area_of_rectangle(length, width)\n",
    "print(\"Area of rectangle :\" + str(result))"
   ]
  }
 ],
 "metadata": {
  "kernelspec": {
   "display_name": "Python 3",
   "language": "python",
   "name": "python3"
  },
  "language_info": {
   "codemirror_mode": {
    "name": "ipython",
    "version": 3
   },
   "file_extension": ".py",
   "mimetype": "text/x-python",
   "name": "python",
   "nbconvert_exporter": "python",
   "pygments_lexer": "ipython3",
   "version": "3.13.1"
  }
 },
 "nbformat": 4,
 "nbformat_minor": 2
}
