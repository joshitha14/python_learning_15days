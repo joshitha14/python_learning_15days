{
 "cells": [
  {
   "cell_type": "code",
   "execution_count": 2,
   "metadata": {},
   "outputs": [
    {
     "name": "stdout",
     "output_type": "stream",
     "text": [
      "odd\n",
      "None\n"
     ]
    }
   ],
   "source": [
    "def even_or_odd(x):\n",
    "    if x % 2 == 0:\n",
    "        print(\"Even\")\n",
    "    else:\n",
    "        print(\"odd\")\n",
    "\n",
    "x = 7\n",
    "print(even_or_odd(x))\n"
   ]
  },
  {
   "cell_type": "code",
   "execution_count": 6,
   "metadata": {},
   "outputs": [
    {
     "name": "stdout",
     "output_type": "stream",
     "text": [
      "20 Even\n",
      "30 Even\n",
      "33 Odd\n",
      "23 Odd\n",
      "49 Odd\n",
      "45 Odd\n",
      "67 Odd\n",
      "80 Even\n",
      "124 Even\n"
     ]
    }
   ],
   "source": [
    "#using lambda\n",
    "l = [20,30,33,23,49,45,67,80, 124]\n",
    "\n",
    "res = map(lambda num: str(num) + \" Even\" if num % 2 == 0 else str(num) + \" Odd\", l)\n",
    "\n",
    "print(\"\\n\".join(res))"
   ]
  }
 ],
 "metadata": {
  "kernelspec": {
   "display_name": "Python 3",
   "language": "python",
   "name": "python3"
  },
  "language_info": {
   "codemirror_mode": {
    "name": "ipython",
    "version": 3
   },
   "file_extension": ".py",
   "mimetype": "text/x-python",
   "name": "python",
   "nbconvert_exporter": "python",
   "pygments_lexer": "ipython3",
   "version": "3.13.1"
  }
 },
 "nbformat": 4,
 "nbformat_minor": 2
}
